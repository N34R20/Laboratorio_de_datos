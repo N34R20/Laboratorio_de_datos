{
 "cells": [
  {
   "cell_type": "markdown",
   "metadata": {},
   "source": [
    "# Actividad Nro 2"
   ]
  },
  {
   "cell_type": "markdown",
   "metadata": {},
   "source": [
    "1. Conformar Grupo\n",
    "2. **Objetivo**: Conocer cual es el transporte mas usado (por los alumnos de nuestro curso) para llegar a Ciudad Universitaria \n",
    "3. decidir que datos debemos recopilar\n",
    "4. Pensar como a partir de los datos cumpliremos el objetivo (proceso a realizar)"
   ]
  },
  {
   "cell_type": "markdown",
   "metadata": {},
   "source": [
    "## Metodo 1: Encuesta\n",
    "    - Rapido\n",
    "    - Eficiente \n",
    "    - Bajo costo \n",
    "40 paresonas reuniadas en un mismo lugar\n",
    "\n",
    "## Metodo 2: Frecuencia de Bondis -> hacer inferencia estadistica \n",
    "    - datos: Bondis que pasan en un determinado dia: Muestra \n",
    "    - Elegimos de forma Aleatoria una muestra de 40 y comparamos \n",
    "\n",
    "## Metodo 3: Recolectar datos de donde reciden \n",
    "\n",
    "\n"
   ]
  },
  {
   "cell_type": "code",
   "execution_count": 4,
   "metadata": {},
   "outputs": [
    {
     "name": "stderr",
     "output_type": "stream",
     "text": [
      "/var/folders/kl/v0yr0tv51ss61jsr06fjzg180000gp/T/ipykernel_5977/4080736814.py:1: DeprecationWarning: \n",
      "Pyarrow will become a required dependency of pandas in the next major release of pandas (pandas 3.0),\n",
      "(to allow more performant data types, such as the Arrow string type, and better interoperability with other libraries)\n",
      "but was not found to be installed on your system.\n",
      "If this would cause problems for you,\n",
      "please provide us feedback at https://github.com/pandas-dev/pandas/issues/54466\n",
      "        \n",
      "  import pandas as pd\n"
     ]
    }
   ],
   "source": [
    "import pandas as pd"
   ]
  },
  {
   "cell_type": "code",
   "execution_count": 6,
   "metadata": {},
   "outputs": [
    {
     "data": {
      "text/html": [
       "<div>\n",
       "<style scoped>\n",
       "    .dataframe tbody tr th:only-of-type {\n",
       "        vertical-align: middle;\n",
       "    }\n",
       "\n",
       "    .dataframe tbody tr th {\n",
       "        vertical-align: top;\n",
       "    }\n",
       "\n",
       "    .dataframe thead th {\n",
       "        text-align: right;\n",
       "    }\n",
       "</style>\n",
       "<table border=\"1\" class=\"dataframe\">\n",
       "  <thead>\n",
       "    <tr style=\"text-align: right;\">\n",
       "      <th></th>\n",
       "      <th>Marca temporal</th>\n",
       "      <th>Dirección de correo electrónico</th>\n",
       "      <th>Ingrese su nombre</th>\n",
       "      <th>Ingrese su apellido</th>\n",
       "      <th>¿Usted se encuentra cursando actualmente la materia Laboratorio de Datos?</th>\n",
       "      <th>¿Cuál es el transporte que utilizó hoy para llegar a Ciudad Universitaria? \\n- En caso de utilizar más de uno responder en base al trayecto final.</th>\n",
       "    </tr>\n",
       "  </thead>\n",
       "  <tbody>\n",
       "    <tr>\n",
       "      <th>0</th>\n",
       "      <td>1/02/2024 10:54:29</td>\n",
       "      <td>gutmanmanuel@gmail.com</td>\n",
       "      <td>Manuel</td>\n",
       "      <td>Gutman</td>\n",
       "      <td>Sí</td>\n",
       "      <td>Tren</td>\n",
       "    </tr>\n",
       "    <tr>\n",
       "      <th>1</th>\n",
       "      <td>1/02/2024 10:54:32</td>\n",
       "      <td>m.beren83@gmail.com</td>\n",
       "      <td>Manuel</td>\n",
       "      <td>Beren</td>\n",
       "      <td>Sí</td>\n",
       "      <td>Colectivo</td>\n",
       "    </tr>\n",
       "    <tr>\n",
       "      <th>2</th>\n",
       "      <td>1/02/2024 10:54:37</td>\n",
       "      <td>ramiromdq123@gmail.com</td>\n",
       "      <td>Ramiro</td>\n",
       "      <td>Padilla</td>\n",
       "      <td>Sí</td>\n",
       "      <td>Colectivo</td>\n",
       "    </tr>\n",
       "    <tr>\n",
       "      <th>3</th>\n",
       "      <td>1/02/2024 10:54:40</td>\n",
       "      <td>francisco.olmos.99@gmail.com</td>\n",
       "      <td>Francisco</td>\n",
       "      <td>Olmos</td>\n",
       "      <td>Sí</td>\n",
       "      <td>Colectivo</td>\n",
       "    </tr>\n",
       "    <tr>\n",
       "      <th>4</th>\n",
       "      <td>1/02/2024 10:54:40</td>\n",
       "      <td>santiagorocca17@gmail.com</td>\n",
       "      <td>Santiago</td>\n",
       "      <td>Rocca</td>\n",
       "      <td>Sí</td>\n",
       "      <td>Colectivo</td>\n",
       "    </tr>\n",
       "    <tr>\n",
       "      <th>5</th>\n",
       "      <td>1/02/2024 10:54:46</td>\n",
       "      <td>fidelurru00@gmail.com</td>\n",
       "      <td>Fidel</td>\n",
       "      <td>Urrutia</td>\n",
       "      <td>Sí</td>\n",
       "      <td>Colectivo</td>\n",
       "    </tr>\n",
       "    <tr>\n",
       "      <th>6</th>\n",
       "      <td>1/02/2024 10:54:48</td>\n",
       "      <td>alfonsosuarezmartina@gmail.com</td>\n",
       "      <td>Martina</td>\n",
       "      <td>Alfonso suarez</td>\n",
       "      <td>Sí</td>\n",
       "      <td>Colectivo</td>\n",
       "    </tr>\n",
       "    <tr>\n",
       "      <th>7</th>\n",
       "      <td>1/02/2024 10:54:49</td>\n",
       "      <td>ehrhornleonard@gmail.com</td>\n",
       "      <td>Leonard</td>\n",
       "      <td>Ehrhorn</td>\n",
       "      <td>Sí</td>\n",
       "      <td>Tren</td>\n",
       "    </tr>\n",
       "    <tr>\n",
       "      <th>8</th>\n",
       "      <td>1/02/2024 10:54:50</td>\n",
       "      <td>fvanotti15@gmail.com</td>\n",
       "      <td>Franco</td>\n",
       "      <td>Vanotti</td>\n",
       "      <td>Sí</td>\n",
       "      <td>Colectivo</td>\n",
       "    </tr>\n",
       "    <tr>\n",
       "      <th>9</th>\n",
       "      <td>1/02/2024 10:54:52</td>\n",
       "      <td>gonza.tepl@gmail.com</td>\n",
       "      <td>Gonzalo</td>\n",
       "      <td>Teplizky</td>\n",
       "      <td>Sí</td>\n",
       "      <td>Colectivo</td>\n",
       "    </tr>\n",
       "  </tbody>\n",
       "</table>\n",
       "</div>"
      ],
      "text/plain": [
       "       Marca temporal Dirección de correo electrónico Ingrese su nombre  \\\n",
       "0  1/02/2024 10:54:29          gutmanmanuel@gmail.com            Manuel   \n",
       "1  1/02/2024 10:54:32             m.beren83@gmail.com            Manuel   \n",
       "2  1/02/2024 10:54:37          ramiromdq123@gmail.com            Ramiro   \n",
       "3  1/02/2024 10:54:40    francisco.olmos.99@gmail.com         Francisco   \n",
       "4  1/02/2024 10:54:40       santiagorocca17@gmail.com          Santiago   \n",
       "5  1/02/2024 10:54:46           fidelurru00@gmail.com             Fidel   \n",
       "6  1/02/2024 10:54:48  alfonsosuarezmartina@gmail.com           Martina   \n",
       "7  1/02/2024 10:54:49        ehrhornleonard@gmail.com           Leonard   \n",
       "8  1/02/2024 10:54:50            fvanotti15@gmail.com            Franco   \n",
       "9  1/02/2024 10:54:52            gonza.tepl@gmail.com           Gonzalo   \n",
       "\n",
       "  Ingrese su apellido  \\\n",
       "0              Gutman   \n",
       "1               Beren   \n",
       "2             Padilla   \n",
       "3               Olmos   \n",
       "4               Rocca   \n",
       "5             Urrutia   \n",
       "6      Alfonso suarez   \n",
       "7             Ehrhorn   \n",
       "8             Vanotti   \n",
       "9            Teplizky   \n",
       "\n",
       "  ¿Usted se encuentra cursando actualmente la materia Laboratorio de Datos?  \\\n",
       "0                                                 Sí                          \n",
       "1                                                 Sí                          \n",
       "2                                                 Sí                          \n",
       "3                                                 Sí                          \n",
       "4                                                 Sí                          \n",
       "5                                                 Sí                          \n",
       "6                                                 Sí                          \n",
       "7                                                 Sí                          \n",
       "8                                                 Sí                          \n",
       "9                                                 Sí                          \n",
       "\n",
       "  ¿Cuál es el transporte que utilizó hoy para llegar a Ciudad Universitaria? \\n- En caso de utilizar más de uno responder en base al trayecto final.  \n",
       "0                                               Tren                                                                                                  \n",
       "1                                          Colectivo                                                                                                  \n",
       "2                                          Colectivo                                                                                                  \n",
       "3                                          Colectivo                                                                                                  \n",
       "4                                          Colectivo                                                                                                  \n",
       "5                                          Colectivo                                                                                                  \n",
       "6                                          Colectivo                                                                                                  \n",
       "7                                               Tren                                                                                                  \n",
       "8                                          Colectivo                                                                                                  \n",
       "9                                          Colectivo                                                                                                  "
      ]
     },
     "execution_count": 6,
     "metadata": {},
     "output_type": "execute_result"
    }
   ],
   "source": [
    "df = pd.read_csv(\"Clase-03-Actividad-02-EncuestaDeMovilidad (respuestas) - Respuestas de formulario 1.csv\")\n",
    "\n",
    "df.head(10)"
   ]
  },
  {
   "cell_type": "code",
   "execution_count": 8,
   "metadata": {},
   "outputs": [
    {
     "data": {
      "text/plain": [
       "¿Cuál es el transporte que utilizó hoy para llegar a Ciudad Universitaria? \\n- En caso de utilizar más de uno responder en base al trayecto final.\n",
       "Colectivo    0.745098\n",
       "Tren         0.156863\n",
       "Auto         0.058824\n",
       "A pie        0.019608\n",
       "Bicicleta    0.019608\n",
       "Name: proportion, dtype: float64"
      ]
     },
     "execution_count": 8,
     "metadata": {},
     "output_type": "execute_result"
    }
   ],
   "source": [
    "df[\"¿Cuál es el transporte que utilizó hoy para llegar a Ciudad Universitaria? \\n- En caso de utilizar más de uno responder en base al trayecto final.\"].value_counts(normalize=True)"
   ]
  }
 ],
 "metadata": {
  "kernelspec": {
   "display_name": "labo_de_datos",
   "language": "python",
   "name": "python3"
  },
  "language_info": {
   "codemirror_mode": {
    "name": "ipython",
    "version": 3
   },
   "file_extension": ".py",
   "mimetype": "text/x-python",
   "name": "python",
   "nbconvert_exporter": "python",
   "pygments_lexer": "ipython3",
   "version": "3.10.13"
  }
 },
 "nbformat": 4,
 "nbformat_minor": 2
}
