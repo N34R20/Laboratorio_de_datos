{
 "cells": [
  {
   "cell_type": "markdown",
   "metadata": {},
   "source": [
    "# Resolucion Practica 6"
   ]
  },
  {
   "cell_type": "code",
   "execution_count": 1,
   "metadata": {},
   "outputs": [
    {
     "name": "stdout",
     "output_type": "stream",
     "text": [
      "Collecting inline-sql\n",
      "  Downloading inline_sql-0.1.1-py3-none-any.whl (5.3 kB)\n",
      "Collecting duckdb~=0.5 (from inline-sql)\n",
      "  Downloading duckdb-0.10.0-cp310-cp310-macosx_11_0_arm64.whl.metadata (763 bytes)\n",
      "Collecting pandas~=1.3 (from inline-sql)\n",
      "  Downloading pandas-1.5.3-cp310-cp310-macosx_11_0_arm64.whl (10.9 MB)\n",
      "\u001b[2K     \u001b[90m━━━━━━━━━━━━━━━━━━━━━━━━━━━━━━━━━━━━━━━━\u001b[0m \u001b[32m10.9/10.9 MB\u001b[0m \u001b[31m6.9 MB/s\u001b[0m eta \u001b[36m0:00:00\u001b[0m00:01\u001b[0m00:01\u001b[0m\n",
      "\u001b[?25hCollecting sqlparse~=0.4 (from inline-sql)\n",
      "  Downloading sqlparse-0.4.4-py3-none-any.whl (41 kB)\n",
      "\u001b[2K     \u001b[90m━━━━━━━━━━━━━━━━━━━━━━━━━━━━━━━━━━━━━━━━\u001b[0m \u001b[32m41.2/41.2 kB\u001b[0m \u001b[31m1.1 MB/s\u001b[0m eta \u001b[36m0:00:00\u001b[0m\n",
      "\u001b[?25hRequirement already satisfied: python-dateutil>=2.8.1 in /Users/franciscoolmos/Github/Laboratorio_de_datos/.conda/lib/python3.10/site-packages (from pandas~=1.3->inline-sql) (2.8.2)\n",
      "Collecting pytz>=2020.1 (from pandas~=1.3->inline-sql)\n",
      "  Downloading pytz-2024.1-py2.py3-none-any.whl.metadata (22 kB)\n",
      "Collecting numpy>=1.21.0 (from pandas~=1.3->inline-sql)\n",
      "  Downloading numpy-1.26.4-cp310-cp310-macosx_11_0_arm64.whl.metadata (61 kB)\n",
      "\u001b[2K     \u001b[90m━━━━━━━━━━━━━━━━━━━━━━━━━━━━━━━━━━━━━━━━\u001b[0m \u001b[32m61.1/61.1 kB\u001b[0m \u001b[31m3.9 MB/s\u001b[0m eta \u001b[36m0:00:00\u001b[0m\n",
      "\u001b[?25hRequirement already satisfied: six>=1.5 in /Users/franciscoolmos/Github/Laboratorio_de_datos/.conda/lib/python3.10/site-packages (from python-dateutil>=2.8.1->pandas~=1.3->inline-sql) (1.16.0)\n",
      "Downloading duckdb-0.10.0-cp310-cp310-macosx_11_0_arm64.whl (14.0 MB)\n",
      "\u001b[2K   \u001b[90m━━━━━━━━━━━━━━━━━━━━━━━━━━━━━━━━━━━━━━━━\u001b[0m \u001b[32m14.0/14.0 MB\u001b[0m \u001b[31m5.3 MB/s\u001b[0m eta \u001b[36m0:00:00\u001b[0m00:01\u001b[0m00:01\u001b[0m\n",
      "\u001b[?25hDownloading numpy-1.26.4-cp310-cp310-macosx_11_0_arm64.whl (14.0 MB)\n",
      "\u001b[2K   \u001b[90m━━━━━━━━━━━━━━━━━━━━━━━━━━━━━━━━━━━━━━━━\u001b[0m \u001b[32m14.0/14.0 MB\u001b[0m \u001b[31m9.2 MB/s\u001b[0m eta \u001b[36m0:00:00\u001b[0m00:01\u001b[0m00:01\u001b[0m\n",
      "\u001b[?25hDownloading pytz-2024.1-py2.py3-none-any.whl (505 kB)\n",
      "\u001b[2K   \u001b[90m━━━━━━━━━━━━━━━━━━━━━━━━━━━━━━━━━━━━━━━━\u001b[0m \u001b[32m505.5/505.5 kB\u001b[0m \u001b[31m7.5 MB/s\u001b[0m eta \u001b[36m0:00:00\u001b[0mta \u001b[36m0:00:01\u001b[0m\n",
      "\u001b[?25hInstalling collected packages: pytz, sqlparse, numpy, duckdb, pandas, inline-sql\n",
      "Successfully installed duckdb-0.10.0 inline-sql-0.1.1 numpy-1.26.4 pandas-1.5.3 pytz-2024.1 sqlparse-0.4.4\n"
     ]
    }
   ],
   "source": [
    "!pip install inline-sql"
   ]
  },
  {
   "cell_type": "code",
   "execution_count": 3,
   "metadata": {},
   "outputs": [],
   "source": [
    "# Importamos bibliotecas\n",
    "import pandas as pd\n",
    "from inline_sql import sql, sql_val"
   ]
  },
  {
   "cell_type": "code",
   "execution_count": 9,
   "metadata": {},
   "outputs": [],
   "source": [
    "carpeta = \"/Users/franciscoolmos/Github/Laboratorio_de_datos/Guias/Archivos-Practica06/\""
   ]
  },
  {
   "cell_type": "code",
   "execution_count": 12,
   "metadata": {},
   "outputs": [],
   "source": [
    "casos = pd.read_csv(carpeta+\"casos.csv\")\n",
    "departamento = pd.read_csv(carpeta+\"departamento.csv\")\n",
    "grupoetario = pd.read_csv(carpeta+\"grupoetario.csv\")\n",
    "provincia = pd.read_csv(carpeta+\"provincia.csv\")\n",
    "tipoevento = pd.read_csv(carpeta+\"tipoevento.csv\")"
   ]
  },
  {
   "cell_type": "code",
   "execution_count": 16,
   "metadata": {},
   "outputs": [],
   "source": [
    "consultaSQL = \"\"\"\n",
    "                SELECT *\n",
    "                FROM departamento;\n",
    "            \"\"\""
   ]
  },
  {
   "cell_type": "code",
   "execution_count": 18,
   "metadata": {},
   "outputs": [
    {
     "name": "stdout",
     "output_type": "stream",
     "text": [
      "        id    descripcion  id_provincia\n",
      "0     2001       COMUNA 1             2\n",
      "1     2002       COMUNA 2             2\n",
      "2     2003       COMUNA 3             2\n",
      "3     2004       COMUNA 4             2\n",
      "4     2010      COMUNA 10             2\n",
      "..     ...            ...           ...\n",
      "328  86056           Copo            86\n",
      "329  90021    Chicligasta            90\n",
      "330  90112        Trancas            90\n",
      "331  86140     Quebrachos            86\n",
      "332  22036  12 de Octubre            22\n",
      "\n",
      "[333 rows x 3 columns]\n"
     ]
    }
   ],
   "source": [
    "dataframeResultado = sql^consultaSQL\n",
    "    \n",
    "print(dataframeResultado)"
   ]
  }
 ],
 "metadata": {
  "kernelspec": {
   "display_name": "Python 3",
   "language": "python",
   "name": "python3"
  },
  "language_info": {
   "codemirror_mode": {
    "name": "ipython",
    "version": 3
   },
   "file_extension": ".py",
   "mimetype": "text/x-python",
   "name": "python",
   "nbconvert_exporter": "python",
   "pygments_lexer": "ipython3",
   "version": "3.10.13"
  }
 },
 "nbformat": 4,
 "nbformat_minor": 2
}
